{
 "cells": [
  {
   "cell_type": "markdown",
   "metadata": {},
   "source": [
    "# Setting runtime variables dynamically"
   ]
  },
  {
   "cell_type": "code",
   "execution_count": 4,
   "metadata": {},
   "outputs": [
    {
     "data": {
      "text/plain": [
       "\u001b[32m\"N/A\"\u001b[39m"
      ]
     },
     "execution_count": 4,
     "metadata": {},
     "output_type": "execute_result"
    }
   ],
   "source": [
    "import { tool } from \"@langchain/core/tools\"\n",
    "import { getContextVariable, setContextVariable } from \"@langchain/core/context\"\n",
    "import { z } from \"npm:zod\"\n",
    "\n",
    "let currency \n",
    "\n",
    "const currTool = tool(\n",
    "\n",
    "    async (input) => {\n",
    "        \n",
    "        const generatedCurr = getContextVariable(\"currency\")\n",
    "        if (!input.currName) return \"No curr!!!!!!!!!!!\"\n",
    "        \n",
    "        currency = generatedCurr\n",
    "        return \"currency_tool called\"\n",
    "    },\n",
    "    {\n",
    "        name: \"currency_tool\",\n",
    "        description: \"gets set currency info.\",\n",
    "        schema: z.object({\n",
    "            currName: z.string().min(6).max(6)\n",
    "        })\n",
    "    })\n",
    "\n",
    "await currTool.invoke({ currName: \"USDCAD\" })\n",
    "\n",
    "currency ? currency : \"N/A\""
   ]
  },
  {
   "cell_type": "code",
   "execution_count": 6,
   "metadata": {},
   "outputs": [
    {
     "data": {
      "text/plain": [
       "\u001b[32m\"XAUUSD\"\u001b[39m"
      ]
     },
     "execution_count": 6,
     "metadata": {},
     "output_type": "execute_result"
    }
   ],
   "source": [
    "import { BaseChatModel } from \"@langchain/core/language_models/chat_models\"\n",
    "import { RunnableLambda } from \"@langchain/core/runnables\"\n",
    "import { ChatPromptTemplate } from \"@langchain/core/prompts\"\n",
    "import { StringOutputParser } from \"@langchain/core/output_parsers\"\n",
    "import { ChatGroq } from \"@langchain/groq\"\n",
    "\n",
    "\n",
    "const genCurr = async ({ llm, ui }: { llm: BaseChatModel, ui: string }) => {\n",
    "    try {\n",
    "        const tooledLLM = llm.bindTools([currTool])\n",
    "\n",
    "        const prompt = ChatPromptTemplate.fromTemplate(\"You are an expert trader who who knows structure of currency pairs. Generate an uppercase currency pair name of 6 characters in the format ABCXYZ from the user input: {user_input}.\")\n",
    "        const parser = new StringOutputParser()\n",
    "        const chain = prompt.pipe(llm).pipe(parser).pipe(tooledLLM)\n",
    "\n",
    "        const modelResponse = await chain.invoke({ user_input: ui })\n",
    "\n",
    "        const toolCallOutPut = modelResponse?.tool_calls[0]\n",
    "\n",
    "        const currName = toolCallOutPut?.args?.currName\n",
    "        setContextVariable(\"currency\", currName)\n",
    "\n",
    "        return currTool.invoke(toolCallOutPut)\n",
    "    } catch (error) {\n",
    "        return error.message\n",
    "    }\n",
    "}\n",
    "\n",
    "const genCurrRunnable = RunnableLambda.from(genCurr)\n",
    "\n",
    "await genCurrRunnable.invoke({\n",
    "    llm: new ChatGroq(),\n",
    "    ui: \"I trade gold American currency\"\n",
    "})\n",
    "\n",
    "currency ? currency : \"N/A\""
   ]
  }
 ],
 "metadata": {
  "kernelspec": {
   "display_name": "Deno",
   "language": "typescript",
   "name": "deno"
  },
  "language_info": {
   "codemirror_mode": "typescript",
   "file_extension": ".ts",
   "mimetype": "text/x.typescript",
   "name": "typescript",
   "nbconvert_exporter": "script",
   "pygments_lexer": "typescript",
   "version": "5.5.2"
  }
 },
 "nbformat": 4,
 "nbformat_minor": 2
}
